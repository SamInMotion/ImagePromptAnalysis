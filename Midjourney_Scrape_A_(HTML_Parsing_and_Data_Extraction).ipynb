{
  "nbformat": 4,
  "nbformat_minor": 0,
  "metadata": {
    "colab": {
      "provenance": [],
      "authorship_tag": "ABX9TyNE6R9JJPiarxlGbKnYVu8v",
      "include_colab_link": true
    },
    "kernelspec": {
      "name": "python3",
      "display_name": "Python 3"
    },
    "language_info": {
      "name": "python"
    }
  },
  "cells": [
    {
      "cell_type": "markdown",
      "metadata": {
        "id": "view-in-github",
        "colab_type": "text"
      },
      "source": [
        "<a href=\"https://colab.research.google.com/github/Tm-ui/ImagePromptAnalysis/blob/main/Midjourney_Scrape_A_(HTML_Parsing_and_Data_Extraction).ipynb\" target=\"_parent\"><img src=\"https://colab.research.google.com/assets/colab-badge.svg\" alt=\"Open In Colab\"/></a>"
      ]
    },
    {
      "cell_type": "markdown",
      "source": [
        "# Documentation:\n",
        "# This notebook extracts data from an Midjourney Chat as a HTML file while anonymizing sensitive information\n",
        "# such as user IDs, mentions, and URLs to protect privacy for analysis.\n",
        "\n"
      ],
      "metadata": {
        "id": "8DkWssGtoKxh"
      }
    },
    {
      "cell_type": "code",
      "execution_count": null,
      "metadata": {
        "id": "buM7T8cbn7GM"
      },
      "outputs": [],
      "source": [
        "# Import necessary libraries\n",
        "import pandas as pd\n",
        "from bs4 import BeautifulSoup\n",
        "import re\n",
        "import uuid\n",
        "\n",
        "\n",
        "\n"
      ]
    },
    {
      "cell_type": "code",
      "source": [
        "# Reads the HTML file (this example assumes that the file is named 'Midjourney_example.html' in the same directory)\n",
        "with open('Midjourney_example.html', 'r', encoding='utf-8') as f:\n",
        "    html_string = f.read()\n",
        "\n",
        "# Parse the HTML using BeautifulSoup\n",
        "soup = BeautifulSoup(html_string, 'html.parser')\n",
        "\n",
        "# Lists to store extracted data\n",
        "user_ids = []\n",
        "timestamps = []\n",
        "message_prompts = []\n",
        "image_urls = []\n",
        "mentions = []\n",
        "\n",
        "# Dictionary to replace actual usernames with pseudonyms\n",
        "users = {}\n",
        "user_count = 0\n",
        "\n",
        "# Loop through each message in the chat log\n",
        "for message in soup.find_all('div', class_='chatlog__message'):\n",
        "    # Anonymize User IDs\n",
        "    user_elem = message.find('span', class_='chatlog__author')\n",
        "    if user_elem and 'data-user-id' in user_elem.attrs:\n",
        "        user_id = str(uuid.uuid4())  # Replace user_id with anonymized UUID\n",
        "    else:\n",
        "        user_id = None\n",
        "    user_ids.append(user_id)\n",
        "\n",
        "    # Replace actual timestamps with generalized ones\n",
        "    timestamp_elem = message.find('span', class_='chatlog__timestamp')\n",
        "    if timestamp_elem:\n",
        "        timestamp = 'anonymized_timestamp'\n",
        "    else:\n",
        "        timestamp = None\n",
        "    timestamps.append(timestamp)\n",
        "\n",
        "    # Extract message prompts and anonymize mentions\n",
        "    message_elem = message.find('span', class_='chatlog__markdown-preserve')\n",
        "    if message_elem:\n",
        "        message_prompt = message_elem.text.strip()\n",
        "        # Extract '@' mentions and anonymize them\n",
        "        mention_pattern = r'@([^\\s]+)'\n",
        "        mention_matches = re.findall(mention_pattern, message_prompt)\n",
        "        pseudonyms = []\n",
        "        for mention in mention_matches:\n",
        "            if mention not in users:\n",
        "                user_count += 1\n",
        "                users[mention] = f'user_{user_count}'\n",
        "            pseudonyms.append(users[mention])\n",
        "        mentions.append(pseudonyms)\n",
        "        # Remove '@' mentions from message prompt\n",
        "        message_prompt = re.sub(mention_pattern, '', message_prompt)\n",
        "    else:\n",
        "        message_prompt = None\n",
        "        mentions.append(None)\n",
        "    message_prompts.append(message_prompt)\n",
        "\n",
        "    # Anonymize image URLs\n",
        "    image_elem = message.find('img', class_='chatlog__avatar')\n",
        "    if image_elem and 'src' in image_elem.attrs:\n",
        "        image_url = 'url_redacted'  # Replace actual image URLs\n",
        "    else:\n",
        "        image_url = None\n",
        "    image_urls.append(image_url)\n",
        "\n",
        "# Create a DataFrame from the extracted and anonymized data\n",
        "data = {\n",
        "    'user_id': user_ids,\n",
        "    'timestamp': timestamps,\n",
        "    'message_prompt': message_prompts,\n",
        "    'image_url': image_urls,\n",
        "    'mentions': mentions\n",
        "}\n",
        "df = pd.DataFrame(data)\n",
        "\n",
        "# Display the DataFrame\n",
        "print(df)\n",
        "\n",
        "\n"
      ],
      "metadata": {
        "id": "uRYc0_Fvoydg"
      },
      "execution_count": null,
      "outputs": []
    },
    {
      "cell_type": "code",
      "source": [
        "# Save the DataFrame to a CSV file (use a general file name, not something tied to the real data source)\n",
        "df.to_csv('chatlog_anonymized.csv', index=False)"
      ],
      "metadata": {
        "id": "hcrYkXoAo5rt"
      },
      "execution_count": null,
      "outputs": []
    }
  ]
}